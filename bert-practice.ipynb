{
 "cells": [
  {
   "cell_type": "code",
   "execution_count": 2,
   "metadata": {},
   "outputs": [],
   "source": [
    "import os\n",
    "import pandas as pd\n",
    "import numpy as np\n",
    "\n",
    "def get_title_list(path):\n",
    "    \"\"\"記事タイトル取得関数\"\"\"\n",
    "    title_list = []\n",
    "    filenames = os.listdir(path) #ファイル名称一覧取得\n",
    "    for filename in filenames:\n",
    "        # 1記事ずつファイルの読み込み\n",
    "        with open(path+filename, encoding=\"utf_8_sig\") as f:\n",
    "            title = f.readlines()[2].strip() #各記事テキストの改行2番目に記事タイトルが記載してある\n",
    "            title_list.append(title)\n",
    "    return title_list\n",
    "\n",
    "# データセットの生成(タイトルとラベル付与)\n",
    "\"\"\"\n",
    "今回は例として与えられた記事タイトルから\n",
    "どのニュース媒体記事なのか？(独女通信、ITライフハック、MOVIE ENTERの3種類)\n",
    "を分類する為のデータセットを作成する\n",
    "\"\"\"\n",
    "\n",
    "#独女通信(ラベル0)\n",
    "# #ITライフハック(ラベル1)\n",
    "# #MOVIE ENTER(ラベル2)\n",
    "title_0 = get_title_list('../text/dokujo-tsushin/')\n",
    "label_0 = np.full(len(title_0),0)\n",
    "title_1 = get_title_list('../text/it-life-hack/')\n",
    "label_1 = np.full(len(title_1),1)\n",
    "title_2 = get_title_list('../text/movie-enter/')\n",
    "label_2 = np.full(len(title_2),2)\n",
    "\n",
    "title_list = title_0 + title_1 + title_2\n",
    "label_list = np.concatenate([label_0,label_1,label_2])\n",
    "\n",
    "df = pd.DataFrame({\n",
    "    'label': label_list,\n",
    "    'title': title_list\n",
    "})\n",
    "\n",
    "# 全データの順番をシャッフル(+index振り直し)\n",
    "df = df.sample(frac=1 ,random_state=0).reset_index(drop=True)\n",
    "df.to_csv('livedoor_sentence.csv', sep=',', index=False, encoding='utf_8_sig')"
   ]
  },
  {
   "cell_type": "code",
   "execution_count": null,
   "metadata": {},
   "outputs": [],
   "source": [
    "#google colab用\n",
    "!pip install unidic-lite\n",
    "!pip install fugashi"
   ]
  },
  {
   "cell_type": "code",
   "execution_count": null,
   "metadata": {},
   "outputs": [],
   "source": [
    "import pandas as pd\n",
    "df = pd.read_csv('livedoor_sentence.csv', index_col=None)"
   ]
  },
  {
   "cell_type": "code",
   "execution_count": 3,
   "metadata": {},
   "outputs": [
    {
     "name": "stdout",
     "output_type": "stream",
     "text": [
      "Counter({1: 871, 2: 871, 0: 871})\n"
     ]
    }
   ],
   "source": [
    "import collections\n",
    "print(collections.Counter(df['label']))"
   ]
  },
  {
   "cell_type": "code",
   "execution_count": 4,
   "metadata": {},
   "outputs": [
    {
     "name": "stderr",
     "output_type": "stream",
     "text": [
      "c:\\Users\\takig\\.conda\\envs\\miko-py310\\lib\\site-packages\\tqdm\\auto.py:21: TqdmWarning: IProgress not found. Please update jupyter and ipywidgets. See https://ipywidgets.readthedocs.io/en/stable/user_install.html\n",
      "  from .autonotebook import tqdm as notebook_tqdm\n",
      "c:\\Users\\takig\\.conda\\envs\\miko-py310\\lib\\site-packages\\huggingface_hub\\file_download.py:1132: FutureWarning: `resume_download` is deprecated and will be removed in version 1.0.0. Downloads always resume when possible. If you want to force a new download, use `force_download=True`.\n",
      "  warnings.warn(\n"
     ]
    },
    {
     "name": "stdout",
     "output_type": "stream",
     "text": [
      "tensor([    2, 32589, 17651, 16947,   862,  5128,   893, 12953,     3])\n",
      "['[CLS]', '楽しく', 'リズム', '感覚', 'が', '身', 'に', 'つく', '[SEP]']\n"
     ]
    }
   ],
   "source": [
    "from transformers import BertJapaneseTokenizer\n",
    "\n",
    "\"\"\"\n",
    "使用する前にfugashiとunidic-liteをインストールする。\n",
    "pip install unidic-lite \n",
    "pip install fugashi\n",
    "\n",
    "・BertJapaneseTokenizerは日本語用のBERTトークナイザ\n",
    "・from_pretrainedで指定されたPytorchモデルの事前学習を実行する\n",
    "・\"cl-tohoku/bert-base-japanese-v2\"は東北大学の日本語事前学習用BERTモデル ※下記補足参照\n",
    "・do_subword_tokenizeは、サブワードのトークン化をするかどうか\n",
    "・mecab_kwargsでMeCabユーザー辞書やNeoLogd等の指定も可能\n",
    "　※\"mecab_dic\": Noneでデフォルト辞書(UniDic)をOFFにする必要あり\n",
    "\"\"\"\n",
    "tokenizer = BertJapaneseTokenizer.from_pretrained(\n",
    "    \"cl-tohoku/bert-base-japanese-v2\", \n",
    "    #do_subword_tokenize=False,\n",
    "    #mecab_kwargs={\"mecab_dic\": None, \"mecab_option\": \"-d 'C:\\mecab-unidic-neologd'\"\n",
    ")\n",
    "\n",
    "#適当なキーワードでトークナイズしてみる\n",
    "text = \"楽しくリズム感覚が身につく\"\n",
    "\n",
    "#tokenizer.encodeでテキストをトークンIDに,return_tensors='pt'でPytorch型のテンソル型に変換\n",
    "ids = tokenizer.encode(text, return_tensors='pt')[0]\n",
    "wakati = tokenizer.convert_ids_to_tokens(ids) #どのようにトークナイズされたか分かち書きで確認\n",
    "print(ids)\n",
    "print(wakati)\n"
   ]
  },
  {
   "cell_type": "code",
   "execution_count": 5,
   "metadata": {},
   "outputs": [
    {
     "name": "stderr",
     "output_type": "stream",
     "text": [
      "Some weights of BertForSequenceClassification were not initialized from the model checkpoint at cl-tohoku/bert-base-japanese-v2 and are newly initialized: ['classifier.bias', 'classifier.weight']\n",
      "You should probably TRAIN this model on a down-stream task to be able to use it for predictions and inference.\n",
      "c:\\Users\\takig\\.conda\\envs\\miko-py310\\lib\\site-packages\\transformers\\optimization.py:429: FutureWarning: This implementation of AdamW is deprecated and will be removed in a future version. Use the PyTorch implementation torch.optim.AdamW instead, or set `no_deprecation_warning=True` to disable this warning\n",
      "  warnings.warn(\n"
     ]
    }
   ],
   "source": [
    "\"\"\"\n",
    "・BertForSequenceClassificationはBEETの最終層をクラス分類に変えたもの\n",
    "・事前学習はトークナイザと同じものを指定する\n",
    "・num_labelsで分類数を指定する\n",
    "\"\"\"\n",
    "import torch\n",
    "from transformers import BertForSequenceClassification\n",
    "\n",
    "model = BertForSequenceClassification.from_pretrained(\n",
    "    \"cl-tohoku/bert-base-japanese-v2\",\n",
    "    num_labels = 3\n",
    ")\n",
    "\n",
    "#学習モードに設定\n",
    "model.train()\n",
    "\n",
    "#使用デバイス設定(CPU,GPU)\n",
    "device = torch.device(\"cuda:0\" if torch.cuda.is_available() else \"cpu\")\n",
    "model.to(device) #modelをGPUに転送\n",
    "\n",
    "#オプティマイザの設定\n",
    "from transformers import AdamW\n",
    "optimizer = AdamW(model.parameters(), lr=1e-5)\n"
   ]
  },
  {
   "cell_type": "code",
   "execution_count": 6,
   "metadata": {},
   "outputs": [],
   "source": [
    "#乱数のseedを全固定する\n",
    "import random\n",
    "\n",
    "def seed_everything(seed):\n",
    "    random.seed(seed)\n",
    "    os.environ['PYTHONHASHSEED'] = str(seed)\n",
    "    torch.manual_seed(seed)\n",
    "    torch.cuda.manual_seed(seed)\n",
    "    torch.cuda.manual_seed_all(seed)\n",
    "    torch.backends.cudnn.deterministic = True\n",
    "\n",
    "seed_everything(0)\n"
   ]
  },
  {
   "cell_type": "code",
   "execution_count": 8,
   "metadata": {},
   "outputs": [
    {
     "name": "stderr",
     "output_type": "stream",
     "text": [
      "Asking to truncate to max_length but no maximum length is provided and the model has no predefined maximum length. Default to no truncation.\n"
     ]
    },
    {
     "name": "stdout",
     "output_type": "stream",
     "text": [
      "学習データ数: 2351\n",
      "テストデータ数: 262\n"
     ]
    }
   ],
   "source": [
    "from torch.utils.data import TensorDataset, random_split, DataLoader, SequentialSampler, RandomSampler\n",
    "from sklearn.model_selection import train_test_split\n",
    "\n",
    "\"\"\"\n",
    "・encodingで分類対象の文をトークナイザ\n",
    "・input_idsはトークンID\n",
    "・attention_mask はパディング用に埋め込み文字化どうかの判断用\n",
    "・train_labels は分類ラベル\n",
    "\"\"\"\n",
    "encoding = tokenizer(df['title'].tolist(), return_tensors='pt', padding=True, truncation=True)\n",
    "input_ids = encoding['input_ids']\n",
    "attention_mask = encoding['attention_mask']\n",
    "train_labels = torch.tensor(df['label'].tolist())\n",
    "\n",
    "#データセット作成\n",
    "dataset = TensorDataset(input_ids, attention_mask, train_labels)\n",
    "\n",
    "#学習とテストの割合　※ここでは9割学習\n",
    "train_size = int(0.9*len(dataset))\n",
    "val_size= len(dataset) - train_size\n",
    "train_dataset, val_dataset= random_split(dataset, [train_size, val_size])\n",
    "\n",
    "print(\"学習データ数: {}\" .format(train_size))\n",
    "print(\"テストデータ数: {}\" .format(val_size))\n"
   ]
  },
  {
   "cell_type": "code",
   "execution_count": 10,
   "metadata": {},
   "outputs": [
    {
     "data": {
      "text/html": [
       "<div>\n",
       "<style scoped>\n",
       "    .dataframe tbody tr th:only-of-type {\n",
       "        vertical-align: middle;\n",
       "    }\n",
       "\n",
       "    .dataframe tbody tr th {\n",
       "        vertical-align: top;\n",
       "    }\n",
       "\n",
       "    .dataframe thead th {\n",
       "        text-align: right;\n",
       "    }\n",
       "</style>\n",
       "<table border=\"1\" class=\"dataframe\">\n",
       "  <thead>\n",
       "    <tr style=\"text-align: right;\">\n",
       "      <th></th>\n",
       "      <th>title</th>\n",
       "    </tr>\n",
       "  </thead>\n",
       "  <tbody>\n",
       "    <tr>\n",
       "      <th>0</th>\n",
       "      <td>もうプロポーズを待たない女たち</td>\n",
       "    </tr>\n",
       "    <tr>\n",
       "      <th>0</th>\n",
       "      <td>写真魂のバトンリレー!GRデジタルをバトンに若き写真家たちの駅伝写真展がスタート</td>\n",
       "    </tr>\n",
       "  </tbody>\n",
       "</table>\n",
       "</div>"
      ],
      "text/plain": [
       "                                      title\n",
       "0                           もうプロポーズを待たない女たち\n",
       "0  写真魂のバトンリレー!GRデジタルをバトンに若き写真家たちの駅伝写真展がスタート"
      ]
     },
     "execution_count": 10,
     "metadata": {},
     "output_type": "execute_result"
    }
   ],
   "source": [
    "import pandas as pd\n",
    "import numpy as np\n",
    "\n",
    "for i in range(val_dataset.__len__()):\n",
    "    #別の方法あるかもだが、文字置換でスペシャルトークン(CLSとか)を消している\n",
    "    sentence = tokenizer.decode(val_dataset.__getitem__(i)[0].detach().numpy().tolist()).replace('[CLS]', '').replace('[PAD]', '').replace('[SEP]', '').replace(' ', '')\n",
    "    df_val_sentence_kari = pd.DataFrame(sentence.split(), columns=[\"title\"])\n",
    "        \n",
    "    if i==0:\n",
    "        df_val_sentence = df_val_sentence_kari.copy()\n",
    "    else:\n",
    "        df_val_sentence = pd.concat([df_val_sentence_kari, df_val_sentence], axis=0)\n",
    "\n",
    "df_val_sentence.head(2) #お試しで2行表示\n"
   ]
  },
  {
   "cell_type": "code",
   "execution_count": 11,
   "metadata": {},
   "outputs": [],
   "source": [
    "batch_size = 8\n",
    "\n",
    "train_dataloader = DataLoader(\n",
    "    train_dataset,\n",
    "    sampler = RandomSampler(train_dataset),\n",
    "    batch_size = batch_size\n",
    ")\n",
    "\n",
    "validation_dataloader = DataLoader(\n",
    "    val_dataset,\n",
    "#     sampler = RandomSampler(val_dataset), #先ほど元sentenceを保存した為シャッフルしない\n",
    "    batch_size = 1\n",
    ")\n"
   ]
  },
  {
   "cell_type": "code",
   "execution_count": null,
   "metadata": {},
   "outputs": [],
   "source": [
    "def train(model):\n",
    "    \"\"\"学習ループ用関数\"\"\"\n",
    "    model.train()\n",
    "    train_loss = 0\n",
    "    \n",
    "    for batch in train_dataloader:\n",
    "        b_input_ids = batch[0].to(device) #トークンID\n",
    "        b_input_mask = batch[1].to(device) #埋め込み文字判断\n",
    "        b_labels = batch[2].to(device) #正解ラベル\n",
    "        optimizer.zero_grad()\n",
    "        \n",
    "        outputs = model(b_input_ids, token_type_ids=None, attention_mask=b_input_mask, labels=b_labels)\n",
    "        loss = outputs.loss\n",
    "        loss.backward()\n",
    "        torch.nn.utils.clip_grad_norm_(model.parameters(), 1.0)\n",
    "        optimizer.step()\n",
    "        train_loss += loss.item()    \n",
    "    return train_loss\n",
    "\n",
    "max_epoch = 10 #Epoch数は適当に\n",
    "train_loss_ = []\n",
    "\n",
    "for epoch in range(max_epoch):\n",
    "    train_ = train(model)\n",
    "    train_loss_.append(train_)\n",
    "    \n",
    "    print(train_)\n"
   ]
  },
  {
   "cell_type": "code",
   "execution_count": null,
   "metadata": {},
   "outputs": [],
   "source": [
    "def eval(model, validation_dataloader, df_val_sentence) :\n",
    "    model.eval() #検証モード\n",
    "    preds_list = []\n",
    "    b_labels_list = []\n",
    "\n",
    "    for batch in validation_dataloader:\n",
    "        b_input_ids = batch[0].to(device)\n",
    "        b_input_mask = batch[1].to(device)\n",
    "        b_labels = batch[2].to(device) #ラベルはモデルへ入力しないが正解確認用\n",
    "        \n",
    "        with torch.no_grad():\n",
    "            preds = model(b_input_ids, token_type_ids=None, attention_mask=b_input_mask)\n",
    "            preds_list.append(preds) #予測ラベル\n",
    "            b_labels_list.append(b_labels) #正解ラベル\n",
    "\n",
    "    #データフレームで結果を可視化する\n",
    "    for i in range(len(preds_list)):\n",
    "        #preds_list[i][0]で一番確率が高いものを予測ラベルと判断(よくある分類のパターンと同じ)\n",
    "        df_pred = pd.DataFrame(np.argmax(preds_list[i][0].cpu().numpy(), axis=1), columns={\"pred_label\"})\n",
    "        df_label = pd.DataFrame(b_labels_list[i].cpu().numpy(), columns={\"true_label\"})\n",
    "        df_result_kari = pd.concat([df_pred, df_label], axis=1)\n",
    "        \n",
    "        if i==0:\n",
    "            df_result = df_result_kari.copy()\n",
    "        else:\n",
    "            df_result = pd.concat([df_result_kari, df_result], axis=0)\n",
    "\n",
    "    df_result = pd.concat([df_val_sentence, df_result], axis=1) \n",
    "    return df_result\n"
   ]
  },
  {
   "cell_type": "code",
   "execution_count": null,
   "metadata": {},
   "outputs": [],
   "source": [
    "plain = eval(model, validation_dataloader, df_val_sentence)\n",
    "plain.head()"
   ]
  }
 ],
 "metadata": {
  "kernelspec": {
   "display_name": "miko-py310",
   "language": "python",
   "name": "python3"
  },
  "language_info": {
   "codemirror_mode": {
    "name": "ipython",
    "version": 3
   },
   "file_extension": ".py",
   "mimetype": "text/x-python",
   "name": "python",
   "nbconvert_exporter": "python",
   "pygments_lexer": "ipython3",
   "version": "3.10.13"
  }
 },
 "nbformat": 4,
 "nbformat_minor": 2
}
