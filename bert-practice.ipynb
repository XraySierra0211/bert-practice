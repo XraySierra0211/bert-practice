{
 "cells": [
  {
   "cell_type": "code",
   "execution_count": 2,
   "metadata": {},
   "outputs": [],
   "source": [
    "import os\n",
    "import pandas as pd\n",
    "import numpy as np\n",
    "\n",
    "def get_title_list(path):\n",
    "    \"\"\"記事タイトル取得関数\"\"\"\n",
    "    title_list = []\n",
    "    filenames = os.listdir(path) #ファイル名称一覧取得\n",
    "    for filename in filenames:\n",
    "        # 1記事ずつファイルの読み込み\n",
    "        with open(path+filename, encoding=\"utf_8_sig\") as f:\n",
    "            title = f.readlines()[2].strip() #各記事テキストの改行2番目に記事タイトルが記載してある\n",
    "            title_list.append(title)\n",
    "    return title_list\n",
    "\n",
    "# データセットの生成(タイトルとラベル付与)\n",
    "\"\"\"\n",
    "今回は例として与えられた記事タイトルから\n",
    "どのニュース媒体記事なのか？(独女通信、ITライフハック、MOVIE ENTERの3種類)\n",
    "を分類する為のデータセットを作成する\n",
    "\"\"\"\n",
    "\n",
    "#独女通信(ラベル0)\n",
    "# #ITライフハック(ラベル1)\n",
    "# #MOVIE ENTER(ラベル2)\n",
    "title_0 = get_title_list('./text/dokujo-tsushin/')\n",
    "label_0 = np.full(len(title_0),0)\n",
    "title_1 = get_title_list('./text/it-life-hack/')\n",
    "label_1 = np.full(len(title_1),1)\n",
    "title_2 = get_title_list('./text/movie-enter/')\n",
    "label_2 = np.full(len(title_2),2)\n",
    "\n",
    "title_list = title_0 + title_1 + title_2\n",
    "label_list = np.concatenate([label_0,label_1,label_2])\n",
    "\n",
    "df = pd.DataFrame({\n",
    "    'label': label_list,\n",
    "    'title': title_list\n",
    "})\n",
    "\n",
    "# 全データの順番をシャッフル(+index振り直し)\n",
    "df = df.sample(frac=1 ,random_state=0).reset_index(drop=True)\n",
    "df.to_csv('livedoor_sentence.csv', sep=',', index=False, encoding='utf_8_sig')"
   ]
  },
  {
   "cell_type": "code",
   "execution_count": 5,
   "metadata": {},
   "outputs": [
    {
     "name": "stdout",
     "output_type": "stream",
     "text": [
      "Counter({1: 871, 2: 871, 0: 871})\n"
     ]
    }
   ],
   "source": [
    "import collections\n",
    "print(collections.Counter(df['label']))"
   ]
  },
  {
   "cell_type": "code",
   "execution_count": 9,
   "metadata": {},
   "outputs": [
    {
     "name": "stdout",
     "output_type": "stream",
     "text": [
      "tensor([    2, 32589, 17651, 16947,   862,  5128,   893, 12953,     3])\n",
      "['[CLS]', '楽しく', 'リズム', '感覚', 'が', '身', 'に', 'つく', '[SEP]']\n"
     ]
    }
   ],
   "source": [
    "from transformers import BertJapaneseTokenizer\n",
    "\n",
    "\"\"\"\n",
    "使用する前にfugashiとunidic-liteをインストールする。\n",
    "pip install unidic-lite \n",
    "pip install fugashi\n",
    "\n",
    "・BertJapaneseTokenizerは日本語用のBERTトークナイザ\n",
    "・from_pretrainedで指定されたPytorchモデルの事前学習を実行する\n",
    "・\"cl-tohoku/bert-base-japanese-v2\"は東北大学の日本語事前学習用BERTモデル ※下記補足参照\n",
    "・do_subword_tokenizeは、サブワードのトークン化をするかどうか\n",
    "・mecab_kwargsでMeCabユーザー辞書やNeoLogd等の指定も可能\n",
    "　※\"mecab_dic\": Noneでデフォルト辞書(UniDic)をOFFにする必要あり\n",
    "\"\"\"\n",
    "tokenizer = BertJapaneseTokenizer.from_pretrained(\n",
    "    \"cl-tohoku/bert-base-japanese-v2\", \n",
    "    #do_subword_tokenize=False,\n",
    "    #mecab_kwargs={\"mecab_dic\": None, \"mecab_option\": \"-d 'C:\\mecab-unidic-neologd'\"\n",
    ")\n",
    "\n",
    "#適当なキーワードでトークナイズしてみる\n",
    "text = \"楽しくリズム感覚が身につく\"\n",
    "\n",
    "#tokenizer.encodeでテキストをトークンIDに,return_tensors='pt'でPytorch型のテンソル型に変換\n",
    "ids = tokenizer.encode(text, return_tensors='pt')[0]\n",
    "wakati = tokenizer.convert_ids_to_tokens(ids) #どのようにトークナイズされたか分かち書きで確認\n",
    "print(ids)\n",
    "print(wakati)\n"
   ]
  },
  {
   "cell_type": "code",
   "execution_count": null,
   "metadata": {},
   "outputs": [],
   "source": []
  }
 ],
 "metadata": {
  "kernelspec": {
   "display_name": "miko-py310",
   "language": "python",
   "name": "python3"
  },
  "language_info": {
   "codemirror_mode": {
    "name": "ipython",
    "version": 3
   },
   "file_extension": ".py",
   "mimetype": "text/x-python",
   "name": "python",
   "nbconvert_exporter": "python",
   "pygments_lexer": "ipython3",
   "version": "3.10.13"
  }
 },
 "nbformat": 4,
 "nbformat_minor": 2
}
